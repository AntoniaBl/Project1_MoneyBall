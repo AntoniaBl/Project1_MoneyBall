{
 "cells": [
  {
   "cell_type": "markdown",
   "id": "375919be",
   "metadata": {},
   "source": [
    "# 1 Load Libraries"
   ]
  },
  {
   "cell_type": "markdown",
   "id": "6be5117f",
   "metadata": {},
   "source": [
    "# 2 Load data"
   ]
  },
  {
   "cell_type": "markdown",
   "id": "9f3868d6",
   "metadata": {},
   "source": [
    "# 3 Explore and Clean Data"
   ]
  },
  {
   "cell_type": "code",
   "execution_count": null,
   "id": "2fe7b0d7",
   "metadata": {},
   "outputs": [],
   "source": []
  },
  {
   "cell_type": "markdown",
   "id": "17a4cfda",
   "metadata": {},
   "source": [
    "remove duplicates"
   ]
  },
  {
   "cell_type": "code",
   "execution_count": null,
   "id": "dfb2e6cd",
   "metadata": {},
   "outputs": [],
   "source": []
  },
  {
   "cell_type": "code",
   "execution_count": null,
   "id": "c84b0eaf",
   "metadata": {},
   "outputs": [],
   "source": [
    "#...\n"
   ]
  },
  {
   "cell_type": "markdown",
   "id": "a78e0d6f",
   "metadata": {},
   "source": [
    "# 4 Visualization"
   ]
  },
  {
   "cell_type": "code",
   "execution_count": null,
   "id": "0e8506d5",
   "metadata": {},
   "outputs": [],
   "source": []
  },
  {
   "cell_type": "markdown",
   "id": "01f34908",
   "metadata": {},
   "source": [
    "# 5 Fit the model"
   ]
  },
  {
   "cell_type": "code",
   "execution_count": null,
   "id": "9f83957d",
   "metadata": {},
   "outputs": [],
   "source": []
  }
 ],
 "metadata": {
  "kernelspec": {
   "display_name": "Python 3",
   "language": "python",
   "name": "python3"
  },
  "language_info": {
   "codemirror_mode": {
    "name": "ipython",
    "version": 3
   },
   "file_extension": ".py",
   "mimetype": "text/x-python",
   "name": "python",
   "nbconvert_exporter": "python",
   "pygments_lexer": "ipython3",
   "version": "3.9.4"
  }
 },
 "nbformat": 4,
 "nbformat_minor": 5
}
